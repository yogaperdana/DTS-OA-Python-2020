{
 "cells": [
  {
   "cell_type": "markdown",
   "metadata": {},
   "source": [
    "# Latihan SBA (_Skill Based Assessment_)"
   ]
  },
  {
   "cell_type": "markdown",
   "metadata": {},
   "source": [
    "## Soal #1\n",
    "Buatlah sebuah `class` dengan nama `titik2d` dengan detail sebagai berikut:\n",
    "- Terdiri dari dua atribut yaitu `x` dan `y` yang dapat diinisiasikan pada saat pembuatan _instance_/obyek dari kelas tersebut (_method constructor_-nya _positional argument_ `x` dan `y`).\n",
    "- Memiliki _method_ dengan nama `ambil titik` yang mengembalikan sebuah _tuple_ dengan nilai `(x,y)`.\n",
    "- Memiliki _method_ `tambahkan` dengan satu nilai masukan/argumen `titik` (_type_: `class titik2d`). _Method_ ini meng-_update atribute_ `(x,y)` dengan menambahkan elemen `x` dan `y` dari kelas tersebut dengan elemen `x` dan `y` dari masukan/argumen `titik` sedemikian hingga $x = x_{lama} + x_{baru}$ dan $y = y_{lama} + y_{baru}$.\n",
    "\n",
    "**Catatan:**\n",
    "Anda bisa mengubah nama _variable_ `titik` tersebut dengan nama yang lain jika berkenan"
   ]
  },
  {
   "cell_type": "markdown",
   "metadata": {},
   "source": [
    "### Jawaban"
   ]
  },
  {
   "cell_type": "code",
   "execution_count": 1,
   "metadata": {},
   "outputs": [],
   "source": [
    "class titik2d:\n",
    "\tdef __init__(self, x, y):\n",
    "\t\tself.x = x\n",
    "\t\tself.y = y\n",
    "\t\n",
    "\tdef ambiltitik(self):\n",
    "\t\treturn (self.x, self.y)\n",
    "\t\n",
    "\tdef tambahkan(self, titik):\n",
    "\t\tself.x += titik.x\n",
    "\t\tself.y += titik.y"
   ]
  },
  {
   "cell_type": "markdown",
   "metadata": {},
   "source": [
    "## Soal #2\n",
    "Buatlah fungsi dengan nama `run` dimana fungsi ini tidak memiliki masukan/argumen apapun. Di dalam fungsi ini, anda diminta untuk membuat _script_ yang meminta inputan dari _user_ berupa dua buah nilai yang dipisahkan dengan _space_. Kemudian buatlah sebuah obyek/_instance_ `titik2d` dari nilai masukan tersebut. Obyek tersebut merupakan kembalian (_return value_) dari fungsi `run`.\n",
    "\n",
    "**Catatan:**\n",
    "Gunakan hanya satu kali perintah `input()`."
   ]
  },
  {
   "cell_type": "markdown",
   "metadata": {},
   "source": [
    "### Jawaban"
   ]
  },
  {
   "cell_type": "code",
   "execution_count": 2,
   "metadata": {},
   "outputs": [],
   "source": [
    "def run():\n",
    "\treturn titik2d(*tuple(map(int, input('Masukkan 2 angka, pisahkan dengan spasi: ').split(' '))))"
   ]
  },
  {
   "cell_type": "markdown",
   "metadata": {},
   "source": [
    "## Pengujian"
   ]
  },
  {
   "cell_type": "code",
   "execution_count": 3,
   "metadata": {},
   "outputs": [
    {
     "name": "stdout",
     "output_type": "stream",
     "text": [
      "Titik 1: (2, 3)\n",
      "Titik 2: (6, 7)\n"
     ]
    }
   ],
   "source": [
    "if __name__ == '__main__':\n",
    "\tt1 = run()\n",
    "\tprint('Titik 1:', t1.ambiltitik())\n",
    "\tt2 = run()\n",
    "\tt2.tambahkan(t1)\n",
    "\tprint('Titik 2:', t2.ambiltitik())"
   ]
  }
 ],
 "metadata": {
  "kernelspec": {
   "display_name": "Python 3.9.13 ('base')",
   "language": "python",
   "name": "python3"
  },
  "language_info": {
   "codemirror_mode": {
    "name": "ipython",
    "version": 3
   },
   "file_extension": ".py",
   "mimetype": "text/x-python",
   "name": "python",
   "nbconvert_exporter": "python",
   "pygments_lexer": "ipython3",
   "version": "3.9.13"
  },
  "orig_nbformat": 4,
  "vscode": {
   "interpreter": {
    "hash": "19d1d53a962d236aa061289c2ac16dc8e6d9648c89fe79f459ae9a3493bc67b4"
   }
  }
 },
 "nbformat": 4,
 "nbformat_minor": 2
}
