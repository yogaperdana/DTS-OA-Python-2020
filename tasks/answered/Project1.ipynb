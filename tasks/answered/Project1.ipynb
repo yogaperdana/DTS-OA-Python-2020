{
 "cells": [
  {
   "cell_type": "markdown",
   "metadata": {},
   "source": [
    "# Project 1: Working with List and Dictionary"
   ]
  },
  {
   "cell_type": "markdown",
   "metadata": {},
   "source": [
    "---\n",
    "## Tugas #1"
   ]
  },
  {
   "cell_type": "markdown",
   "metadata": {},
   "source": [
    "### Soal\n",
    "Buatlah fungsi `letter_catalog` dengan sebuah _positional argument_ berupa _list_ dan _keyword argument_ `letter` untuk nilai _default_ 'A'. Fungsi `letter_catalog` akan mengembalikan sebuah _list_ yang berisi nama-nama buah yang dimulai dengan huruf yang ada _keyword argument_ `letter`. Jika tidak ada _item_ di _list_ inputan tersebut yang diawali dengan huruf yang didefinisikan di _keyword_ `letter` maka fungsi mengembalikan _list_ kosong."
   ]
  },
  {
   "cell_type": "markdown",
   "metadata": {},
   "source": [
    "### Jawaban"
   ]
  },
  {
   "cell_type": "code",
   "execution_count": 1,
   "metadata": {},
   "outputs": [],
   "source": [
    "def letter_catalog(items, letter='A'):\n",
    "\treturn [i for i in items if i.find(letter, 0, 1) != -1]"
   ]
  },
  {
   "cell_type": "markdown",
   "metadata": {},
   "source": [
    "### Cek Hasil\n",
    "**Hasil yang diharapkan:**\n",
    "```py\n",
    "['Apple', 'Avocado']\n",
    "```\n",
    "\n",
    "**Output:**"
   ]
  },
  {
   "cell_type": "code",
   "execution_count": 2,
   "metadata": {},
   "outputs": [
    {
     "data": {
      "text/plain": [
       "['Apple', 'Avocado']"
      ]
     },
     "execution_count": 2,
     "metadata": {},
     "output_type": "execute_result"
    }
   ],
   "source": [
    "letter_catalog(['Apple','Avocado','Banana','Blackberries','Blueberries','Cherries'], letter='A')"
   ]
  },
  {
   "cell_type": "markdown",
   "metadata": {},
   "source": [
    "---\n",
    "## Tugas #2"
   ]
  },
  {
   "cell_type": "markdown",
   "metadata": {},
   "source": [
    "### Soal\n",
    "Buatlah fungsi `counter_item` yang memiliki sebuah _input argument_ berupa _list_. Fungsi ini mengembalikan sebuah _dictionary_ yang menghitung jumlah buah dalam _list input_, dengan `key` berupa nama buah tersebut dan `value` berupa jumlah nama buah tersebut muncul di _list input_."
   ]
  },
  {
   "cell_type": "markdown",
   "metadata": {},
   "source": [
    "### Jawaban"
   ]
  },
  {
   "cell_type": "code",
   "execution_count": 3,
   "metadata": {},
   "outputs": [],
   "source": [
    "def counter_item(items):\n",
    "\treturn {i: items.count(i) for i in items}"
   ]
  },
  {
   "cell_type": "markdown",
   "metadata": {},
   "source": [
    "### Cek Hasil\n",
    "**Hasil yang diharapkan:**\n",
    "```py\n",
    "{'Apple': 3, 'Blueberries': 3}\n",
    "```\n",
    "\n",
    "**Output:**"
   ]
  },
  {
   "cell_type": "code",
   "execution_count": 4,
   "metadata": {},
   "outputs": [
    {
     "data": {
      "text/plain": [
       "{'Apple': 3, 'Blueberries': 3}"
      ]
     },
     "execution_count": 4,
     "metadata": {},
     "output_type": "execute_result"
    }
   ],
   "source": [
    "counter_item(['Apple','Apple','Apple','Blueberries','Blueberries','Blueberries'])"
   ]
  },
  {
   "cell_type": "markdown",
   "metadata": {},
   "source": [
    "---\n",
    "## Tugas #3"
   ]
  },
  {
   "cell_type": "markdown",
   "metadata": {},
   "source": [
    "### Soal\n",
    "Di bawah ini sudah ada tiga _variables_: `fruits`, `prices`, dan `chart`. \n",
    "- Buatlah sebuah _dictionary_ yang berupa daftar harga buah dengan `key` berupa nama buah di _variable_ `fruits` dan dengan `value` berupa harga dari buah tersebut di _variable_ `price` (sudah diurutkan sesuai dengan nama-nama buah di _variable_ `fruits`, kemudian _dictionary_ tersebut disimpan di dalam _variable_ `fruit_price`.\n",
    "- Selanjutnya, buatlah fungsi `total_price` dengan dua input yaitu: 1) _dictionary_ yang merupakan keluaran dari fungsi `counter_item`, dan 2) _dictionary_ harga buah `fruit_price`. Fungsi ini mengeluarkan sebuah total harga dari daftar buah di _dictionary_ keluaran dari `counter_item`.\n",
    "\n",
    "**Petunjuk:** Gunakan fungsi `counter_item` di soal nomor 2."
   ]
  },
  {
   "cell_type": "code",
   "execution_count": 5,
   "metadata": {},
   "outputs": [],
   "source": [
    "fruits = ['Apple', 'Avocado', 'Banana', 'Blackberries', 'Blueberries', 'Cherries', 'Date Fruit', 'Grapes', 'Guava', 'Jackfruit', 'Kiwifruit']\n",
    "prices = [6, 5, 3, 10, 12, 7, 14, 15, 8, 7, 9]\n",
    "chart = ['Blueberries', 'Blueberries', 'Grapes', 'Apple', 'Apple', 'Apple', 'Blueberries', 'Guava', 'Jackfruit', 'Blueberries', 'Jackfruit']"
   ]
  },
  {
   "cell_type": "markdown",
   "metadata": {},
   "source": [
    "### Jawaban"
   ]
  },
  {
   "cell_type": "code",
   "execution_count": 6,
   "metadata": {},
   "outputs": [],
   "source": [
    "fruit_price = {fruits[n]: prices[n] for n in range(len(fruits))}\n",
    "\n",
    "def total_price(dcounter, fprice):\n",
    "\tc = {k: (v * fprice[k]) for k, v in dcounter.items()}\n",
    "\treturn sum(c.values())"
   ]
  },
  {
   "cell_type": "markdown",
   "metadata": {},
   "source": [
    "### Cek Hasil\n",
    "**Hasil yang diharapkan:**\n",
    "```\n",
    "103\n",
    "```\n",
    "\n",
    "**Output:**"
   ]
  },
  {
   "cell_type": "code",
   "execution_count": 7,
   "metadata": {},
   "outputs": [
    {
     "data": {
      "text/plain": [
       "103"
      ]
     },
     "execution_count": 7,
     "metadata": {},
     "output_type": "execute_result"
    }
   ],
   "source": [
    "total_price(counter_item(chart), fruit_price)"
   ]
  },
  {
   "cell_type": "markdown",
   "metadata": {},
   "source": [
    "---\n",
    "## Tugas #4"
   ]
  },
  {
   "cell_type": "markdown",
   "metadata": {},
   "source": [
    "### Soal\n",
    "Buatlah fungsi `discounted_price` dengan dua _positional arguments input_ dari keluaran fungsi `totalprice` dan `discount` dalam persen (80 berarti 80%, dst), dan satu _keyword argument_ `minprice` yang menunjukkan hanya dengan _minimum price_ tersebut yang hanya di-_discount_, set _default value_ `minprice` ke 100. Fungsi tersebut menghitung nilai harga akhir setelah di-_discount_ sebesar _discount variable_ (_argument_ kedua). Untuk harga total yang kurang dari `minprice` maka keluarannya sama dengan harga total tersebut tanpa _discount_."
   ]
  },
  {
   "cell_type": "markdown",
   "metadata": {},
   "source": [
    "### Jawaban"
   ]
  },
  {
   "cell_type": "code",
   "execution_count": 8,
   "metadata": {},
   "outputs": [],
   "source": [
    "def discounted_price(total, discount, minprice=100):\n",
    "\tif total >= minprice: total -= (discount / 100) * total\n",
    "\treturn total"
   ]
  },
  {
   "cell_type": "markdown",
   "metadata": {},
   "source": [
    "### Cek Hasil\n",
    "**Hasil yang diharapkan:**\n",
    "```\n",
    "92.7\n",
    "```\n",
    "\n",
    "**Output:**"
   ]
  },
  {
   "cell_type": "code",
   "execution_count": 9,
   "metadata": {},
   "outputs": [
    {
     "data": {
      "text/plain": [
       "92.7"
      ]
     },
     "execution_count": 9,
     "metadata": {},
     "output_type": "execute_result"
    }
   ],
   "source": [
    "discounted_price(total_price(counter_item(chart), fruit_price), 10, minprice=100)"
   ]
  },
  {
   "cell_type": "markdown",
   "metadata": {},
   "source": [
    "---\n",
    "## Tugas #5"
   ]
  },
  {
   "cell_type": "markdown",
   "metadata": {},
   "source": [
    "### Soal\n",
    "Buatlah fungsi `print_summary` dengan 2 _posisional argument input_, _list_ nama2 buah (contoh seperti _variable_ `chart`) dan _dictionary_ harga buah (contoh seperti _variable_ `fruit_price`, yang mengeluarkan tulisan ringakasan dari pembelian buah seperti berikut ini.\n",
    "\n",
    "**Contoh keluaran:**\n",
    "```\n",
    "3 Apple : 18\n",
    "4 Blueberries : 48\n",
    "1 Grapes : 15\n",
    "1 Guava : 8\n",
    "2 Jackfruit : 14\n",
    "total : 103\n",
    "discount price : 92.7\n",
    "```\n",
    "\n",
    "dengan format `jumlahbuah`\\<spasi\\>`namabuah`\\<spasi\\>`totalhargabuah\\n` dengan nama nama buah berurutan sesuai abjad _ascending_, kemudian diikuti total harga semuanya dan _discount price_ dengan besaran 10% dengan minimum harga pembelian 100.\n",
    "\n",
    "**Catatan**: dipisahkan hanya satu spasi. _Output_ harus sama dengan contoh diatas untuk pemanggilan fungsi berikut ini.\n",
    "```py\n",
    "print_summary(chart, fruit_price)\n",
    "```"
   ]
  },
  {
   "cell_type": "markdown",
   "metadata": {},
   "source": [
    "### Jawaban"
   ]
  },
  {
   "cell_type": "code",
   "execution_count": 10,
   "metadata": {},
   "outputs": [],
   "source": [
    "def print_summary(items, fprice):\n",
    "\tcart = counter_item(items)\n",
    "\tfor item in sorted(cart):\n",
    "\t\tprint(cart[item], item, ':', cart[item] * fprice[item])\n",
    "\tprint('total :', total_price(counter_item(items), fprice))\n",
    "\tprint('discount price :', discounted_price(total_price(counter_item(items), fprice), 10, minprice=100))"
   ]
  },
  {
   "cell_type": "markdown",
   "metadata": {},
   "source": [
    "### Cek Hasil\n",
    "**Hasil yang diharapkan:**\n",
    "```\n",
    "3 Apple : 18\n",
    "4 Blueberries : 48\n",
    "1 Grapes : 15\n",
    "1 Guava : 8\n",
    "2 Jackfruit : 14\n",
    "total : 103\n",
    "discount price : 92.7\n",
    "```\n",
    "\n",
    "**Output:**"
   ]
  },
  {
   "cell_type": "code",
   "execution_count": 11,
   "metadata": {},
   "outputs": [
    {
     "name": "stdout",
     "output_type": "stream",
     "text": [
      "3 Apple : 18\n",
      "4 Blueberries : 48\n",
      "1 Grapes : 15\n",
      "1 Guava : 8\n",
      "2 Jackfruit : 14\n",
      "total : 103\n",
      "discount price : 92.7\n"
     ]
    }
   ],
   "source": [
    "print_summary(chart, fruit_price)"
   ]
  }
 ],
 "metadata": {
  "kernelspec": {
   "display_name": "Python 3.9.13 ('base')",
   "language": "python",
   "name": "python3"
  },
  "language_info": {
   "codemirror_mode": {
    "name": "ipython",
    "version": 3
   },
   "file_extension": ".py",
   "mimetype": "text/x-python",
   "name": "python",
   "nbconvert_exporter": "python",
   "pygments_lexer": "ipython3",
   "version": "3.9.13"
  },
  "orig_nbformat": 4,
  "vscode": {
   "interpreter": {
    "hash": "19d1d53a962d236aa061289c2ac16dc8e6d9648c89fe79f459ae9a3493bc67b4"
   }
  }
 },
 "nbformat": 4,
 "nbformat_minor": 2
}
