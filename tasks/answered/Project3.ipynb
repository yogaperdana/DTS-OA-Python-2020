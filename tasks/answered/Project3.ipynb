{
 "cells": [
  {
   "cell_type": "markdown",
   "metadata": {},
   "source": [
    "# Project 3: Kriptografi Metode Caesar"
   ]
  },
  {
   "cell_type": "markdown",
   "metadata": {},
   "source": [
    "---\n",
    "## Enkripsi dengan Metode Caesar\n",
    "Metode merupakan metode yang paling sederhana dalam melakukan enkripsi. Teknik ini hanya melakukan pemetaan suatu karakter huruf (angka dan karakter spesial tidak termasuk) dengan metode pergeseran karakter. Contoh:\n",
    "\n",
    "| huruf | shift 2 | shift 3 | shift 4 | shift -2 |\n",
    "|-------|---------|---------|---------|----------|\n",
    "| a     | c       | d       | e       | y        |\n",
    "| A     | C       | D       | E       | Y        |\n",
    "| c     | e       | f       | g       | a        |\n",
    "| z     | b       | c       | d       | x        |\n",
    "| %     | %       | %       | %       | %        |\n",
    "| _     | _       | _       | _       | _        |\n",
    "| 5     | 5       | 5       | 5       | 5        |\n",
    "\n",
    "Ketentuan:\n",
    "* pergeseran satu huruf setelah `z` adalah `a`.\n",
    "* Jika input karakter merupakan huruf kapital maka output juga kapital, begitu juga dengan huruf kecil/non-kapital.\n",
    "* semua yang bukan huruf tidak berubah, jadi kalau ada suatu angka maka karakter enkripsinya tetap angka tersebut, begitu juga dengan semua karater spesial termasuk spasi.\n",
    "\n",
    "Maka, untuk mendeskripsikan (_decrypt_) sama dengan menggeser ke arah sebaliknya.\n"
   ]
  },
  {
   "cell_type": "markdown",
   "metadata": {},
   "source": [
    "---\n",
    "## Tugas #1"
   ]
  },
  {
   "cell_type": "markdown",
   "metadata": {},
   "source": [
    "### Soal\n",
    "Buatlah fungsi `caesar_encript`, dengan _argumen_ `txt` (_string_) dan `shift` (_integer_) seperti di bawah ini. Yang melakukan pengekripsian menggunakan metode Caesar terhadap _string_ `txt`. Keluaran dari fungsi ini berupa _string_ terenkripsi/_chiper text_.\n",
    " \n",
    "**Petunjuk:**\n",
    "_Method_ yang mungkin berguna:\n",
    "* `ord()`, `chr()`\n",
    "* _string method_: `.isalpha()`, `.islower()`, dll\n",
    "* jumlah karakter abjad 26\n",
    "* nilai ord dari abjad/huruf berurutan"
   ]
  },
  {
   "cell_type": "markdown",
   "metadata": {},
   "source": [
    "### Jawaban"
   ]
  },
  {
   "cell_type": "code",
   "execution_count": 1,
   "metadata": {},
   "outputs": [],
   "source": [
    "def caesar_encript(txt, shift):\n",
    "\tresult = ''\n",
    "\tfor i in range(len(txt)):\n",
    "\t\tif txt[i].isalpha():\n",
    "\t\t\talpha = 'a' if txt[i].islower() else 'A'\n",
    "\t\t\tresult += chr((ord(txt[i]) + shift - ord(alpha)) % 26 + ord(alpha))\n",
    "\t\telse:\n",
    "\t\t\tresult += txt[i]\n",
    "\treturn result\n",
    "\n",
    "def caesar_decript(chiper, shift):\n",
    "\treturn caesar_encript(chiper, -shift)"
   ]
  },
  {
   "cell_type": "markdown",
   "metadata": {},
   "source": [
    "### Cek Hasil\n",
    "**Hasil yang diharapkan:**\n",
    "```\n",
    "plain text: Haloz DTS mania, MANTAPSZZZ!\n",
    "chiper text: Lepsd HXW qerme, QERXETWDDD!\n",
    "```\n",
    "\n",
    "**Output:**"
   ]
  },
  {
   "cell_type": "code",
   "execution_count": 2,
   "metadata": {},
   "outputs": [
    {
     "name": "stdout",
     "output_type": "stream",
     "text": [
      "plain text: Haloz DTS mania, MANTAPSZZZ!\n",
      "chiper text: Lepsd HXW qerme, QERXETWDDD!\n"
     ]
    }
   ],
   "source": [
    "msg = 'Haloz DTS mania, MANTAPSZZZ!'\n",
    "cpr = caesar_encript(msg, 4)\n",
    "txt = caesar_decript(cpr, 4)\n",
    "\n",
    "print('plain text:', txt)\n",
    "print('chiper text:', cpr)"
   ]
  },
  {
   "cell_type": "markdown",
   "metadata": {},
   "source": [
    "---\n",
    "## Tugas 2"
   ]
  },
  {
   "cell_type": "markdown",
   "metadata": {},
   "source": [
    "### Pendahuluan\n",
    "Fungsi `shuffle_order` akan mengurutkan _string_ `txt` sesuai dengan _list_ `order` parameter. Dimana `len(txt)==len(order)` dan elemen atau _item_ di dalam `order` memenuhi $x \\in \\{0,..,\\rm{len(txt)-1}\\}$.\n",
    "\n",
    "Contoh: `(str) abcde: (list) [0,4,3,2,1]` maka keluarannya adalah `aedcb`.\n",
    "\n",
    "Fungsi ini akan digunakan di soal nomor 3 saat kita bermaksud mengirimkan teks terenkripsi secara berkala dengan urutan acak dalam bentuk teks-teks yang lebih kecil.\n",
    "\n",
    "### Soal\n",
    "Buatlah fungsi `deshuffle_order`, dengan _argument_ `sftxt` (_string_) dan `order` (_list_), yang akan mengembalikan urutan _string_ kembali seperti semula sebelum di-_shuffle_. Sedemikian hingga: `deshuffle_order(shuffle_order(txt,order),order) == txt`\n",
    " \n",
    "**Petunjuk:**\n",
    "_List method_ `.index()`"
   ]
  },
  {
   "cell_type": "markdown",
   "metadata": {},
   "source": [
    "### Jawaban"
   ]
  },
  {
   "cell_type": "code",
   "execution_count": 3,
   "metadata": {},
   "outputs": [],
   "source": [
    "def shuffle_order(txt, order):\n",
    "\treturn ''.join([txt[i] for i in order])\n",
    "\n",
    "def deshuffle_order(sftxt, order):\n",
    "\ttxt = list(sftxt)\n",
    "\tfor i in range(len(order)):\n",
    "\t\ttxt[order[i]] = sftxt[i]\n",
    "\treturn ''.join(txt)"
   ]
  },
  {
   "cell_type": "markdown",
   "metadata": {},
   "source": [
    "### Cek Hasil\n",
    "**Hasil yang diharapkan:**\n",
    "```\n",
    "cbda\n",
    "abcd\n",
    "```\n",
    "\n",
    "**Output:**"
   ]
  },
  {
   "cell_type": "code",
   "execution_count": 4,
   "metadata": {},
   "outputs": [
    {
     "name": "stdout",
     "output_type": "stream",
     "text": [
      "cbda\n",
      "abcd\n"
     ]
    }
   ],
   "source": [
    "print(shuffle_order('abcd', [2,1,3,0]))\n",
    "print(deshuffle_order('cbda', [2,1,3,0]))"
   ]
  },
  {
   "cell_type": "markdown",
   "metadata": {},
   "source": [
    "---\n",
    "## Tugas #3"
   ]
  },
  {
   "cell_type": "markdown",
   "metadata": {},
   "source": [
    "### Pendahuluan\n",
    "Kita akan mengirimkan text melalui sebuah media komunikasi dengan bentuk paket-paket teks yang lebih kecil. \n",
    "\n",
    "Misalkan, media komunikasi tersebut hanya memperbolehkan untuk mengirimkan 4 karakter dalam satu waktu. Sehingga, jika kita memiliki sebuah pesan `halo*DTS`, maka kita perlu memecah pesan tersebut menjadi batch-batch yang terdiri dari 4 karakter, dengan kata lain `halo*DTS` perlu dipecah menjadi dua batch yaitu `halo` dan `*DTS`.\n",
    "\n",
    "Namun, Apabila jumlah karakter tidak penuh, contoh: `haloPY` akan menjadi `halo` dana `PY__`, dimana untuk kekurangan karakter diakhir sesuai panjang batch (dalam hal ini 4) ditambahkan karakter `_` (_underscore_) sejumlah kekurangan tersebut. \n",
    "\n",
    "Untuk memperaman komunikasi, kita bisa `shuffle` urutan karakter-karakter tersebut dengan fungsi di nomor 2.\n",
    "\n",
    "Perhatikan alur pengiriman pesan seperti gambar ilustrasi di bawah ini.\n",
    "\n",
    "![ilustrasi](https://github.com/sykrn/py-dts/blob/master/asets/enkrip.jpg?raw=true)\n",
    "\n",
    "### Soal\n",
    "Buatlah fungsi `send_batch` dengan _argument_ `txt` (_string_), `batch_order` (_list_), dan `shift` (_int_). Fungsi ini akan memecah teks menjadi bagian-bagian yang lebih kecil sesuai dengan panjang dari `batch_order`, di mana `batch_order` tersebut merupakan _list index_ untuk men-_shuffle_ setiap _batch_ dengan menggunakan fungsi di nomor 2. Keluaran fungsi ini berupa _list batch_ teks terenkripsi.   \n",
    " \n",
    "**Catatan:**\n",
    "Tambahkan _underscore_ di akhir (sebelum dipecah menjadi _batches_) jika panjang `txt` belum memenuhi kelipatan panjang satu _batch_ yaitu `len(batch_order)`.\n",
    " \n",
    "**Petunjuk:**\n",
    "Lihat pendahuluan #3 dan gambar, gunakan _library_ `math` jika diperlukan."
   ]
  },
  {
   "cell_type": "markdown",
   "metadata": {},
   "source": [
    "### Jawaban"
   ]
  },
  {
   "cell_type": "code",
   "execution_count": 5,
   "metadata": {},
   "outputs": [],
   "source": [
    "def send_batch(txt, batch_order, shift=3):\n",
    "\tencrypted = caesar_encript(txt, shift)\n",
    "\ttext_length = len(txt)\n",
    "\tbatch_length = len(batch_order)\n",
    "\tbatches = []\n",
    "\tfor i in range(0, len(encrypted), batch_length):\n",
    "\t\ti_max = i + batch_length\n",
    "\t\tbatch = encrypted[i:i_max]\n",
    "\t\tif i_max > text_length:\n",
    "\t\t\tbatch += '_' * (i_max - text_length)\n",
    "\t\tbatches.append(shuffle_order(batch, batch_order))\n",
    "\treturn batches\n",
    "\n",
    "def receive_batch(batch_cpr, batch_order, shift=3):\n",
    "\tbatch_txt = [caesar_decript(deshuffle_order(i, batch_order), shift) for i in batch_cpr]\n",
    "\treturn ''.join(batch_txt).strip('_')"
   ]
  },
  {
   "cell_type": "markdown",
   "metadata": {},
   "source": [
    "### Cek Hasil\n",
    "**Hasil yang diharapkan:**\n",
    "```\n",
    "halo DTS mania, mantaaap!!!\n",
    "['pesl', 'XHW ', 'eqr ', ',e m', 'rexq', 'eete', '!!_!']\n",
    "```\n",
    "\n",
    "**Output:**"
   ]
  },
  {
   "cell_type": "code",
   "execution_count": 6,
   "metadata": {},
   "outputs": [
    {
     "name": "stdout",
     "output_type": "stream",
     "text": [
      "halo DTS mania, mantaaap!!!\n",
      "['pesl', 'XHW ', 'eqr ', ',e m', 'rexq', 'eete', '!!_!']\n"
     ]
    }
   ],
   "source": [
    "msg_cpr = send_batch('halo DTS mania, mantaaap!!!', [2,1,3,0], 4)\n",
    "msg_txt = receive_batch(msg_cpr, [2,1,3,0], 4)\n",
    "print(msg_txt, msg_cpr, sep='\\n')"
   ]
  }
 ],
 "metadata": {
  "kernelspec": {
   "display_name": "Python 3.9.13 ('base')",
   "language": "python",
   "name": "python3"
  },
  "language_info": {
   "codemirror_mode": {
    "name": "ipython",
    "version": 3
   },
   "file_extension": ".py",
   "mimetype": "text/x-python",
   "name": "python",
   "nbconvert_exporter": "python",
   "pygments_lexer": "ipython3",
   "version": "3.9.13"
  },
  "orig_nbformat": 4,
  "vscode": {
   "interpreter": {
    "hash": "19d1d53a962d236aa061289c2ac16dc8e6d9648c89fe79f459ae9a3493bc67b4"
   }
  }
 },
 "nbformat": 4,
 "nbformat_minor": 2
}
