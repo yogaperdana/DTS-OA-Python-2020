{
 "cells": [
  {
   "cell_type": "markdown",
   "metadata": {},
   "source": [
    "# Skill Based Assessment (SBA)"
   ]
  },
  {
   "cell_type": "markdown",
   "metadata": {},
   "source": [
    "## Lembar Kerja"
   ]
  },
  {
   "cell_type": "markdown",
   "metadata": {},
   "source": [
    "### Soal #1"
   ]
  },
  {
   "cell_type": "code",
   "execution_count": 1,
   "metadata": {},
   "outputs": [],
   "source": [
    "def fungsiIO():\n",
    "\tgetin = input('Masukkan barisan angka dan pisahkan dengan spasi: ')\n",
    "\tif getin != '':\n",
    "\t\tlistin = sorted(list(map(int, getin.split(' '))))\n",
    "\t\tfor i in range(len(listin)):\n",
    "\t\t\tprint(*['*' for n in range(listin[i])], sep='')"
   ]
  },
  {
   "cell_type": "markdown",
   "metadata": {},
   "source": [
    "### Soal #2"
   ]
  },
  {
   "cell_type": "code",
   "execution_count": 2,
   "metadata": {},
   "outputs": [],
   "source": [
    "def caseShopia(txt):\n",
    "\treturn ''.join([(txt[i].upper() if txt[i].islower() else txt[i].lower()) for i in range(len(txt)) if txt[i].isalpha()])"
   ]
  },
  {
   "cell_type": "markdown",
   "metadata": {},
   "source": [
    "### Soal #3"
   ]
  },
  {
   "cell_type": "code",
   "execution_count": 3,
   "metadata": {},
   "outputs": [],
   "source": [
    "dcur2idr = {'USD': 14425, 'EUR': 16225, 'AUD': 9925, 'CAD': 10500, 'GBP': 17800, 'CHF': 15200, 'SGD': 10375, 'HKD': 1775, 'JPY': 132500, 'MYR': 3250, 'SAR': 3500, 'WON': 10750, 'IDR': 1}"
   ]
  },
  {
   "cell_type": "code",
   "execution_count": 4,
   "metadata": {},
   "outputs": [],
   "source": [
    "def usd2eur(usd):\n",
    "\treturn float(usd * dcur2idr['USD'] / dcur2idr['EUR'])"
   ]
  },
  {
   "cell_type": "markdown",
   "metadata": {},
   "source": [
    "### Soal #4"
   ]
  },
  {
   "cell_type": "code",
   "execution_count": 5,
   "metadata": {},
   "outputs": [],
   "source": [
    "class MoneyChanger:\n",
    "\tdef __init__(self, dcurrency, base='IDR', percent=2):\n",
    "\t\tself.dcurrency = {item: float(dcurrency[base] / dcurrency[item]) for item in dcurrency}\n",
    "\t\tself.base = base\n",
    "\t\tself.percent = percent\n",
    "\t\t\n",
    "\tdef selling_price(self, nominal, curr):\n",
    "\t\treturn float((nominal * self.dcurrency[self.base] / self.dcurrency[curr]) * ((100 + self.percent) / 100))\n",
    "\t\n",
    "\tdef buying_price(self, nominal, curr):\n",
    "\t\treturn float((nominal * self.dcurrency[self.base] / self.dcurrency[curr]) * ((100 - self.percent) / 100))\n",
    "\n",
    "\tdef change_base(self, new_base):\n",
    "\t\tself.base = new_base"
   ]
  },
  {
   "cell_type": "markdown",
   "metadata": {},
   "source": [
    "## Pengujian"
   ]
  },
  {
   "cell_type": "code",
   "execution_count": 6,
   "metadata": {},
   "outputs": [
    {
     "name": "stdout",
     "output_type": "stream",
     "text": [
      "Test soal 1\n",
      "-----------\n",
      "*\n",
      "**\n",
      "***\n",
      "****\n",
      "*****\n",
      "*******\n",
      "\n",
      "Test soal 2\n",
      "-----------\n",
      "THxgTHlmN\n",
      "\u001b[32mTHxgTHlmN\u001b[0m\n",
      "\n",
      "Test soal 3\n",
      "-----------\n",
      "88.90600924499229\n",
      "\u001b[32m88.90600924499229\u001b[0m\n",
      "\n",
      "Test soal 4\n",
      "-----------\n",
      "base EUR\n",
      "90.68412942989214\n",
      "87.12788906009244\n",
      "base IDR\n",
      "1471350.0\n",
      "1413650.0\n",
      "\u001b[32mbase EUR\n",
      "\u001b[31m90.68412942989215\n",
      "87.12788906009246\n",
      "\u001b[32mbase IDR\n",
      "\u001b[31m1471350.0000000002\n",
      "1413650.0000000002\u001b[0m\n"
     ]
    }
   ],
   "source": [
    "def main():\n",
    "\tprint('Test soal 1\\n-----------')\n",
    "\tfungsiIO() # contoh input: 7 4 5 2 1 3\n",
    "\tprint('')\n",
    "\n",
    "\tprint('Test soal 2\\n-----------')\n",
    "\tprint(caseShopia('thXGth876%^$LMn.'))\n",
    "\tprint('\\u001b[32mTHxgTHlmN\\u001b[0m', end='\\n\\n')\n",
    "\n",
    "\tprint('Test soal 3\\n-----------')\n",
    "\tprint(usd2eur(100))\n",
    "\tprint('\\u001b[32m88.90600924499229\\u001b[0m', end='\\n\\n') \n",
    "\n",
    "\tprint('Test soal 4\\n-----------')\n",
    "\tmc = MoneyChanger(dcur2idr, base='EUR') # object mc dengan base EUR\n",
    "\tprint('base', mc.base)\n",
    "\tprint(mc.selling_price(100, 'USD')) # nilai jual 100 USD ke EUR (Base)\n",
    "\tprint(mc.buying_price(100, 'USD')) # nilai beli 100 USD ke EUR (Base)\n",
    "\n",
    "\tmc.change_base('IDR') # Ganti Base object mc ke IDR\n",
    "\tprint('base', mc.base)\n",
    "\tprint(mc.selling_price(100, 'USD')) # nilai jual 100 USD ke IDR (Base)\n",
    "\tprint(mc.buying_price(100, 'USD'))  # nilai beli 100 USD ke IDR (Base)\n",
    "\n",
    "\tprint('\\u001b[32m', end='')\n",
    "\tprint('base EUR')\n",
    "\tprint('\\u001b[31m', end='')\n",
    "\tprint('90.68412942989215')\n",
    "\tprint('87.12788906009246')\n",
    "\tprint('\\u001b[32m', end='')\n",
    "\tprint('base IDR')\n",
    "\tprint('\\u001b[31m', end='')\n",
    "\tprint('1471350.0000000002')\n",
    "\tprint('1413650.0000000002', end='')\n",
    "\tprint('\\u001b[0m')\n",
    "\n",
    "if __name__ == '__main__':\n",
    "\tmain()"
   ]
  },
  {
   "cell_type": "markdown",
   "metadata": {},
   "source": [
    "Masalah: Terjadi perbedaan hasil karena perhitungan _floating point_"
   ]
  }
 ],
 "metadata": {
  "kernelspec": {
   "display_name": "Python 3.9.13 ('base')",
   "language": "python",
   "name": "python3"
  },
  "language_info": {
   "codemirror_mode": {
    "name": "ipython",
    "version": 3
   },
   "file_extension": ".py",
   "mimetype": "text/x-python",
   "name": "python",
   "nbconvert_exporter": "python",
   "pygments_lexer": "ipython3",
   "version": "3.9.13"
  },
  "orig_nbformat": 4,
  "vscode": {
   "interpreter": {
    "hash": "19d1d53a962d236aa061289c2ac16dc8e6d9648c89fe79f459ae9a3493bc67b4"
   }
  }
 },
 "nbformat": 4,
 "nbformat_minor": 2
}
